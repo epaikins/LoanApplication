{
  "nbformat": 4,
  "nbformat_minor": 0,
  "metadata": {
    "colab": {
      "name": "LoanDLModel.ipynb",
      "provenance": [],
      "collapsed_sections": [],
      "authorship_tag": "ABX9TyP1ZvVajbJfESti5saZ8GVK",
      "include_colab_link": true
    },
    "kernelspec": {
      "name": "python3",
      "display_name": "Python 3"
    },
    "language_info": {
      "name": "python"
    }
  },
  "cells": [
    {
      "cell_type": "markdown",
      "metadata": {
        "id": "view-in-github",
        "colab_type": "text"
      },
      "source": [
        "<a href=\"https://colab.research.google.com/github/epaikins/LoanApplication/blob/master/LoanDLModel.ipynb\" target=\"_parent\"><img src=\"https://colab.research.google.com/assets/colab-badge.svg\" alt=\"Open In Colab\"/></a>"
      ]
    },
    {
      "cell_type": "code",
      "metadata": {
        "id": "M2Jw3HVNETPD"
      },
      "source": [
        "from sklearn import svm\n",
        "import pandas as pd\n",
        "import numpy as np\n",
        "from sklearn.model_selection import train_test_split\n",
        "from sklearn.metrics import accuracy_score, confusion_matrix\n",
        "from imblearn.over_sampling import SMOTE\n",
        "from sklearn.preprocessing import MinMaxScaler\n",
        "import warnings\n",
        "from collections import Counter\n",
        "warnings.filterwarnings(\"ignore\")\n",
        "import seaborn as sns\n",
        "import matplotlib.pyplot as plt\n",
        "from keras import Sequential\n",
        "from keras.layers import Dense"
      ],
      "execution_count": 2,
      "outputs": []
    },
    {
      "cell_type": "code",
      "metadata": {
        "colab": {
          "base_uri": "https://localhost:8080/"
        },
        "id": "exTcn-RaFpir",
        "outputId": "c458f6fb-df09-4398-ccb2-a399343a9083"
      },
      "source": [
        "df = pd.read_csv(\"bankloan.csv\")\n",
        "df = df.dropna()\n",
        "df.isna().any()\n",
        "df = df.drop(\"Loan_ID\", axis=1)\n",
        "df[\"LoanAmount\"] = (df['LoanAmount']*1000).astype(int)\n",
        "Counter(df['Loan_Status'])"
      ],
      "execution_count": 3,
      "outputs": [
        {
          "output_type": "execute_result",
          "data": {
            "text/plain": [
              "Counter({'N': 148, 'Y': 332})"
            ]
          },
          "metadata": {
            "tags": []
          },
          "execution_count": 3
        }
      ]
    },
    {
      "cell_type": "code",
      "metadata": {
        "id": "UyrQDSx5JQAW"
      },
      "source": [
        "pre_y = df['Loan_Status']\n",
        "pre_X = df.drop('Loan_Status', axis=1)\n",
        "dm_X = pd.get_dummies(pre_X)\n",
        "dm_y = pre_y.map(dict(N=1,Y=0))"
      ],
      "execution_count": 5,
      "outputs": []
    },
    {
      "cell_type": "code",
      "metadata": {
        "id": "qtenzgMcKwL1"
      },
      "source": [
        "smote = SMOTE(ratio='minority')\n",
        "X1, y = smote.fit_sample(dm_X,dm_y)\n",
        "sc = MinMaxScaler()\n",
        "X = sc.fit_transform(X1)"
      ],
      "execution_count": 6,
      "outputs": []
    },
    {
      "cell_type": "code",
      "metadata": {
        "id": "_YgDr0zSLH1V"
      },
      "source": [
        "X_train, X_test, y_train, y_test = train_test_split(X,y,test_size=0.2,random_state=42,shuffle=True)"
      ],
      "execution_count": 7,
      "outputs": []
    },
    {
      "cell_type": "code",
      "metadata": {
        "colab": {
          "base_uri": "https://localhost:8080/"
        },
        "id": "e29WOffNLels",
        "outputId": "8f64f1ff-c980-45a5-809e-f04340481be4"
      },
      "source": [
        "classifier = Sequential()\n",
        "classifier.add(Dense(200,activation='relu',kernel_initializer='random_normal', input_dim=X_test.shape[1]))\n",
        "classifier.add(Dense(400,activation='relu',kernel_initializer='random_normal'))\n",
        "classifier.add(Dense(4,activation='relu',kernel_initializer='random_normal'))\n",
        "classifier.add(Dense(1,activation='sigmoid',kernel_initializer='random_normal'))\n",
        "classifier.compile(optimizer='adam',loss='binary_crossentropy',metrics=['accuracy'])\n",
        "classifier.fit(X_train,y_train,batch_size = 20, epochs= 100,verbose=0)\n",
        "eval_model = classifier.evaluate(X_train,y_train)\n",
        "eval_model"
      ],
      "execution_count": 12,
      "outputs": [
        {
          "output_type": "stream",
          "text": [
            "17/17 [==============================] - 0s 1ms/step - loss: 0.2319 - accuracy: 0.9096\n"
          ],
          "name": "stdout"
        },
        {
          "output_type": "execute_result",
          "data": {
            "text/plain": [
              "[0.23186039924621582, 0.909604549407959]"
            ]
          },
          "metadata": {
            "tags": []
          },
          "execution_count": 12
        }
      ]
    },
    {
      "cell_type": "code",
      "metadata": {
        "id": "4zbyh32-NEPK"
      },
      "source": [
        "y_pred =  classifier.predict(X_test)\n",
        "y_pred = (y_pred>0.58)"
      ],
      "execution_count": 13,
      "outputs": []
    },
    {
      "cell_type": "code",
      "metadata": {
        "colab": {
          "base_uri": "https://localhost:8080/",
          "height": 312
        },
        "id": "Q6wA4q1EODhI",
        "outputId": "9d62e655-c065-4828-e59c-f7b870e75dac"
      },
      "source": [
        "cm = confusion_matrix(y_test,y_pred)\n",
        "ax = plt.subplot()\n",
        "sns.heatmap(cm, annot=True, ax = ax)\n",
        "\n",
        "\n",
        "ax.set_xlabel('Predicted')\n",
        "ax.set_ylabel('Actual')\n",
        "ax.set_title(\"Confusion Matrix\")\n",
        "ax.xaxis.set_ticklabels([\"No\",\"Yes\"])\n",
        "ax.yaxis.set_ticklabels([\"No\",\"Yes\"])"
      ],
      "execution_count": 14,
      "outputs": [
        {
          "output_type": "execute_result",
          "data": {
            "text/plain": [
              "[Text(0, 0.5, 'No'), Text(0, 1.5, 'Yes')]"
            ]
          },
          "metadata": {
            "tags": []
          },
          "execution_count": 14
        },
        {
          "output_type": "display_data",
          "data": {
            "image/png": "[encoded data removed]",
            "text/plain": [
              "<Figure size 432x288 with 2 Axes>"
            ]
          },
          "metadata": {
            "tags": [],
            "needs_background": "light"
          }
        }
      ]
    },
    {
      "cell_type": "code",
      "metadata": {
        "id": "3RKv8fkJOFCF"
      },
      "source": [
        "# Export model\n",
        "classifier.save(\"loan_model.h5\")"
      ],
      "execution_count": 24,
      "outputs": []
    },
    {
      "cell_type": "code",
      "metadata": {
        "id": "_VqjxPH2WfpR"
      },
      "source": [
        "# Dummy test exported model\n",
        "\n",
        "from tensorflow import keras\n",
        "from sklearn.preprocessing import MinMaxScaler\n",
        "\n",
        "\n",
        "sc = MinMaxScaler()\n",
        "model = keras.models.load_model(\"loan_model.h5\")\n",
        "\n",
        "new = sc.fit_transform(X_test)\n",
        "y_pred = model.predict(new)\n",
        "\n",
        "y_pred>0.55"
      ],
      "execution_count": 30,
      "outputs": []
    },
    {
      "cell_type": "code",
      "metadata": {
        "id": "7fUSdLokeJNB"
      },
      "source": [
        ""
      ],
      "execution_count": null,
      "outputs": []
    }
  ]
}